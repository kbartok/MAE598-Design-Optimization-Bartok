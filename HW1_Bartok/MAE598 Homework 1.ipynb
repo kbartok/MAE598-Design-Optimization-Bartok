{
 "cells": [
  {
   "cell_type": "markdown",
   "id": "59449a1d",
   "metadata": {},
   "source": [
    "# Problem 1"
   ]
  },
  {
   "cell_type": "code",
   "execution_count": 6,
   "id": "3347d3f2",
   "metadata": {},
   "outputs": [],
   "source": [
    "import numpy as np\n",
    "from scipy.optimize import minimize\n",
    "\n",
    "\n",
    "fun = lambda x: (x[0]-x[1])**2 + (x[1]+x[2]-2)**2 + (x[3]-1)**2 + (x[4]-1)**2\n",
    "\n",
    "cons = ({'type': 'eq', 'fun': lambda x: x[0] + 3*x[1]},\n",
    "        {'type': 'eq', 'fun': lambda x: x[2] + x[3] - 2*x[4]},\n",
    "        {'type': 'eq', 'fun': lambda x: x[1] - x[4]})\n",
    "bnds = ((-10, 10), (-10, 10), (-10, 10), (-10, 10), (-10, 10))\n",
    "x0 = np.array([0, 0, 0, 0, 0])\n",
    "res = minimize(fun, x0, method='SLSQP', bounds=bnds, constraints=cons)"
   ]
  },
  {
   "cell_type": "markdown",
   "id": "98620059",
   "metadata": {},
   "source": [
    "Solution : 4.093023255813954\n",
    "With intial guess of (0,0,0,0,0)"
   ]
  },
  {
   "cell_type": "code",
   "execution_count": 7,
   "id": "3a5ae43b",
   "metadata": {},
   "outputs": [],
   "source": [
    "import numpy as np\n",
    "from scipy.optimize import minimize\n",
    "\n",
    "\n",
    "fun = lambda x: (x[0]-x[1])**2 + (x[1]+x[2]-2)**2 + (x[3]-1)**2 + (x[4]-1)**2\n",
    "\n",
    "cons = ({'type': 'eq', 'fun': lambda x: x[0] + 3*x[1]},\n",
    "        {'type': 'eq', 'fun': lambda x: x[2] + x[3] - 2*x[4]},\n",
    "        {'type': 'eq', 'fun': lambda x: x[1] - x[4]})\n",
    "bnds = ((-10, 10), (-10, 10), (-10, 10), (-10, 10), (-10, 10))\n",
    "x0 = np.array([1, 2, 3, 4, 5])\n",
    "res = minimize(fun, x0, method='SLSQP', bounds=bnds, constraints=cons)"
   ]
  },
  {
   "cell_type": "markdown",
   "id": "37401c2f",
   "metadata": {},
   "source": [
    "Solution : 4.09302325588931\n",
    "With intial guess of (1,2,3,4,5)"
   ]
  },
  {
   "cell_type": "markdown",
   "id": "1dff6a23",
   "metadata": {},
   "source": [
    "There is a very slight differences between the solutions. But the difference is 7.535661e-11 which is outside of macine precision anyway"
   ]
  },
  {
   "cell_type": "markdown",
   "id": "eb816a28",
   "metadata": {},
   "source": []
  },
  {
   "cell_type": "markdown",
   "id": "697759ab",
   "metadata": {},
   "source": [
    "# Problem 2"
   ]
  },
  {
   "cell_type": "markdown",
   "id": "ae4412b3",
   "metadata": {},
   "source": [
    "### f(x) = b^T * x + x^T A*x"
   ]
  },
  {
   "cell_type": "code",
   "execution_count": null,
   "id": "40f8e05a",
   "metadata": {},
   "outputs": [],
   "source": []
  }
 ],
 "metadata": {
  "kernelspec": {
   "display_name": "Python 3",
   "language": "python",
   "name": "python3"
  },
  "language_info": {
   "codemirror_mode": {
    "name": "ipython",
    "version": 3
   },
   "file_extension": ".py",
   "mimetype": "text/x-python",
   "name": "python",
   "nbconvert_exporter": "python",
   "pygments_lexer": "ipython3",
   "version": "3.8.8"
  }
 },
 "nbformat": 4,
 "nbformat_minor": 5
}
